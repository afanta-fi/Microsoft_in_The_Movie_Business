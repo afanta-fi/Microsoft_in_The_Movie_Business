{
 "cells": [
  {
   "cell_type": "markdown",
   "metadata": {},
   "source": [
    "# IMDb Dataset Downloader\n",
    "\n",
    "## Introduction \n",
    "\n",
    "In this notebook, we will download the IMDb dataset that's availble for [download](https://datasets.imdbws.com/). Therefore, in order to use the latest data, the downloads were used instead of the provided dataset.  "
   ]
  },
  {
   "cell_type": "code",
   "execution_count": 1,
   "metadata": {},
   "outputs": [],
   "source": [
    "#Import important libraries\n",
    "import requests \n",
    "import pandas as pd \n",
    "from bs4 import BeautifulSoup"
   ]
  },
  {
   "cell_type": "markdown",
   "metadata": {},
   "source": [
    "The webpage should look like the screen capture below. "
   ]
  },
  {
   "cell_type": "markdown",
   "metadata": {},
   "source": [
    "![Landing page](../images/imdb_dataset.PNG)"
   ]
  },
  {
   "cell_type": "code",
   "execution_count": 2,
   "metadata": {},
   "outputs": [],
   "source": [
    "#URL where updated IMDb dataset is located and load website with BeautifulSoup\n",
    "imdb_dataset_url = 'https://datasets.imdbws.com/'\n",
    "html_page = requests.get(imdb_dataset_url)\n",
    "soup = BeautifulSoup(html_page.content, 'html.parser')\n",
    "dataset_link = soup.find_all('a')"
   ]
  },
  {
   "cell_type": "markdown",
   "metadata": {},
   "source": [
    "The dataset needed for this project is located in '.tsv.gz' files. Since the scraped data is based on movies, series data is also excluded from download."
   ]
  },
  {
   "cell_type": "code",
   "execution_count": 3,
   "metadata": {},
   "outputs": [],
   "source": [
    "#Iterate through href and download dataset. Skip 'episode' for TV series dataset \n",
    "#Files are downloaded in chunks\n",
    "for link in dataset_link:\n",
    "    url = link['href']\n",
    "    if '.gz' in url:\n",
    "        if 'episode' in url: \n",
    "            continue \n",
    "        else:\n",
    "            path = '../zippedData/'+url.split('/')[-1]\n",
    "            r = requests.get(url, stream=True)\n",
    "            with open(path,'wb') as pypdf:\n",
    "                for chunk in r.iter_content(chunk_size=1024):\n",
    "                    if chunk: \n",
    "                        pypdf.write(chunk)"
   ]
  },
  {
   "cell_type": "markdown",
   "metadata": {},
   "source": [
    "## Summary\n",
    "Unlike [The-Numbers](https://www.the-numbers.com/), IMDb proves their dataset for public consumption, which makes things surprisingly easy. The next step is to combine the two datasets. Open [the next notebook](consolidate_scraped_data.ipynb) on detailed instruction on how to merge the two datasets. "
   ]
  }
 ],
 "metadata": {
  "kernelspec": {
   "display_name": "Python (learn-env)",
   "language": "python",
   "name": "learn-env"
  },
  "language_info": {
   "codemirror_mode": {
    "name": "ipython",
    "version": 3
   },
   "file_extension": ".py",
   "mimetype": "text/x-python",
   "name": "python",
   "nbconvert_exporter": "python",
   "pygments_lexer": "ipython3",
   "version": "3.8.5"
  }
 },
 "nbformat": 4,
 "nbformat_minor": 4
}
