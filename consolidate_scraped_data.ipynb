{
 "cells": [
  {
   "cell_type": "markdown",
   "metadata": {},
   "source": [
    "# Consolidated Scraped Data \n",
    "\n",
    "## Introduction\n",
    "This notebook consolidates data is collected from three sources ([The-Numbers](https://www.the-numbers.com/), [IMDb](https://www.imdb.com/) and [Wikipedia](https://www.wikipedia.org)). Links to notebooks that collect/scrape data from [The-Numbers](the_numbers_scraper.ipynb) and [IMDb](imdb_dataset_download.ipynb) are provided."
   ]
  },
  {
   "cell_type": "markdown",
   "metadata": {},
   "source": [
    "In this notebook, datasets from the two sources are merged using movie title and release year. To do this, spaces and special characters are stripped from the movie titles. \n",
    "\n",
    "- For entries that do not match, these additional steps were taken:\n",
    "    - Remove _'the'_ and _'and'_ from titles on the unmatched datasets\n",
    "    - Match using title and select the nearest year of release (atmost ± 5 years apart)\n",
    "    - For The-Numbers dataset with unknown dataset, match only those with single rows after being merged\n",
    "\n",
    "In the next step, movie titles are scraped from Wikipedia for names of the companies that distribute the movies. The final dataframe is also merged with other tables from IMDb datasets using the unique movie id. "
   ]
  },
  {
   "cell_type": "markdown",
   "metadata": {},
   "source": [
    "## The code"
   ]
  },
  {
   "cell_type": "code",
   "execution_count": 1,
   "metadata": {},
   "outputs": [],
   "source": [
    "#First, install the wikipedia library \n",
    "#!pip install wikipedia"
   ]
  },
  {
   "cell_type": "code",
   "execution_count": 2,
   "metadata": {},
   "outputs": [],
   "source": [
    "#Import important libraries \n",
    "import requests \n",
    "import pandas as pd \n",
    "import re\n",
    "from bs4 import BeautifulSoup\n",
    "import wikipedia"
   ]
  },
  {
   "cell_type": "code",
   "execution_count": 3,
   "metadata": {},
   "outputs": [],
   "source": [
    "#Load the-numbers dataset saved to disk. Run the_numbers_scraper.ipynb first\n",
    "tn_df = pd.read_csv(\"zippedData/tn_movie_budgets_updated.csv.gz\",compression='gzip')\n",
    "\n",
    "#Create 'startYear' column in tn_df, with similar name to imdb_df\n",
    "tn_df['startYear'] = tn_df['release_date'].map(lambda x: x.split()[-1])"
   ]
  },
  {
   "cell_type": "code",
   "execution_count": 4,
   "metadata": {},
   "outputs": [],
   "source": [
    "#Load IMDb dataset. For title matching, title.basics.tsv.gz file is used. Run imdb_dataset_download.ipynb prior to this code\n",
    "imdb_df = pd.read_csv(\"zippedData/title.basics.tsv.gz\",compression='gzip',delimiter='\\t',low_memory=False)\n",
    "\n",
    "#Select rows with 'titleType' == 'movie'\n",
    "imdb_df = imdb_df[imdb_df['titleType']=='movie']"
   ]
  },
  {
   "cell_type": "code",
   "execution_count": 5,
   "metadata": {},
   "outputs": [],
   "source": [
    "#Set '\\N' values to 'Unknown' (similar to tn_df) and replace numbers in 'startYear' to strings \n",
    "imdb_df[imdb_df['startYear']=='\\\\N']='Unknown'\n",
    "imdb_df['startYear'] = imdb_df['startYear'].astype(str)"
   ]
  },
  {
   "cell_type": "code",
   "execution_count": 6,
   "metadata": {},
   "outputs": [],
   "source": [
    "#Assign columns to merge on, and columns to choose from imdb_df\n",
    "cols = ['tconst','primaryTitle','originalTitle','isAdult','runtimeMinutes','genres','simple_title','startYear']"
   ]
  },
  {
   "cell_type": "code",
   "execution_count": 7,
   "metadata": {},
   "outputs": [],
   "source": [
    "#Function strips away special characters and additional list of strings \n",
    "def prep_title(title, replace=False):\n",
    "    words = ['the','and']\n",
    "    title = [x.lower() for x in title.split()]\n",
    "    if replace:\n",
    "        for word in words:\n",
    "            if word in title:\n",
    "                title.remove(word)\n",
    "    return re.sub('[\\W\\_]','',''.join(title))\n",
    "\n",
    "#Function that returns rows present only in df_1 but not in d_\n",
    "def left_outer_merge(df_1,df_2,column):\n",
    "    left_out = df_1.merge(df_2[column], how=\"left\", on=column,indicator=True)\n",
    "    left_out=left_out[left_out['_merge']=='left_only']\n",
    "    return left_out.drop('_merge',axis=1)"
   ]
  },
  {
   "cell_type": "code",
   "execution_count": 8,
   "metadata": {},
   "outputs": [],
   "source": [
    "#Create a column named 'simple_title' in 'tn_df' for comparing titles\n",
    "tn_df['simple_title'] = tn_df['movie'].map(lambda x: prep_title(x))"
   ]
  },
  {
   "cell_type": "markdown",
   "metadata": {},
   "source": [
    "Now we are ready to merge the two datasets. IMDb dataset has two columns for titles: original and primary. Therefore, titles are prepped from these two columns separately and merged with `tn_df`."
   ]
  },
  {
   "cell_type": "code",
   "execution_count": 9,
   "metadata": {},
   "outputs": [],
   "source": [
    "#Create a new dataframe called movies_df\n",
    "movies_df = pd.DataFrame(columns=list(tn_df.columns)+cols[:-2])"
   ]
  },
  {
   "cell_type": "code",
   "execution_count": 10,
   "metadata": {},
   "outputs": [],
   "source": [
    "#Function that preps the title and concatinates dataframes on orignal and primary titles\n",
    "def concat_with_movies(df_1,df_2,\n",
    "                       merge_cols=['simple_title','startYear'],\n",
    "                       replace=False,\n",
    "                       m_df=pd.DataFrame(),\n",
    "                       cols=cols):\n",
    "    #######################################################################\n",
    "    #######################################################################\n",
    "    #df_1: The first dataframe \n",
    "    #df_2: The second dataframe. df_1 and df_2 must share columns \n",
    "    #      specified by merge_cols\n",
    "    #merge_cols: list of columns on which the df_1 and df_2\n",
    "    #replace: boolean to replace 'the' and 'and' in the movie titles\n",
    "    #m_df: a dummy dataframe returned by the function, set empty by default\n",
    "    #cols: columns selected from the df_2\n",
    "    df_1['simple_title'] = df_1['movie'].map(lambda x: prep_title(x,replace))\n",
    "    for col in df_2.columns:\n",
    "        if 'Title' in col:            \n",
    "            df_2['simple_title'] = df_2[col].map(lambda x: prep_title(x,replace))\n",
    "            df = pd.merge(df_1,df_2[cols],on=merge_cols)\n",
    "            if m_df.empty:\n",
    "                m_df =df\n",
    "            else:\n",
    "                m_df = pd.concat([m_df,df[m_df.columns]])\n",
    "    return m_df.drop_duplicates()"
   ]
  },
  {
   "cell_type": "code",
   "execution_count": 11,
   "metadata": {},
   "outputs": [],
   "source": [
    "#First merge tn_df and imdb_df based on title and release year\n",
    "movies_df = concat_with_movies(tn_df,imdb_df)"
   ]
  },
  {
   "cell_type": "code",
   "execution_count": 12,
   "metadata": {},
   "outputs": [],
   "source": [
    "#Find unmerged rows\n",
    "un_merged_1 = left_outer_merge(tn_df,movies_df,'simple_title')"
   ]
  },
  {
   "cell_type": "code",
   "execution_count": 13,
   "metadata": {},
   "outputs": [],
   "source": [
    "#Remove 'the','and' on the unmerged rows and try again\n",
    "movies_df = pd.concat([movies_df,concat_with_movies(un_merged_1,imdb_df,replace=True)])"
   ]
  },
  {
   "cell_type": "code",
   "execution_count": 14,
   "metadata": {},
   "outputs": [],
   "source": [
    "#Find missing rows\n",
    "un_merged_2 = left_outer_merge(tn_df,movies_df,'simple_title')"
   ]
  },
  {
   "cell_type": "markdown",
   "metadata": {},
   "source": [
    "Now, let's try to merge `un_merged_2` using titles and check if the release years in `tn_df` and `imdb_df` are within 5 years of each other "
   ]
  },
  {
   "cell_type": "code",
   "execution_count": 15,
   "metadata": {},
   "outputs": [],
   "source": [
    "#Function that returns string of years ± 5 years in 'un_merged_2' dataframe\n",
    "def list_year(year,gap):\n",
    "    try:\n",
    "        return ','.join([str(int(year)+i) for i in range(-gap,gap+1)])\n",
    "    except:\n",
    "        return year"
   ]
  },
  {
   "cell_type": "code",
   "execution_count": 16,
   "metadata": {},
   "outputs": [],
   "source": [
    "#Merge un_merged_2 and imdb_df on title alone first with replacements \n",
    "empty_df = pd.DataFrame(columns=list(tn_df.columns)+cols)\n",
    "mer_2_titl = concat_with_movies(un_merged_2,imdb_df,\n",
    "                                    replace=True,\n",
    "                                    merge_cols='simple_title')"
   ]
  },
  {
   "cell_type": "markdown",
   "metadata": {},
   "source": [
    "Note that `mer_2_titl` has two `startYear` columns. We now apply `list_year` function to `startYear_x` column and check if `startYear_y` is in `startYear_x`."
   ]
  },
  {
   "cell_type": "code",
   "execution_count": 17,
   "metadata": {},
   "outputs": [],
   "source": [
    "#Make a list of years ± 2 years in 'startYear_x'\n",
    "gap = 3\n",
    "mer_2_titl['startYear_x'] = mer_2_titl['startYear_x'].apply(lambda x: list_year(x,gap))"
   ]
  },
  {
   "cell_type": "code",
   "execution_count": 18,
   "metadata": {},
   "outputs": [],
   "source": [
    "#Select values 'startYear_y' that are in 'startYear_x' and store them in column called 'isin'\n",
    "mer_2_titl['isin'] = [x[0] in x[1] for x in zip(mer_2_titl['startYear_y'],mer_2_titl['startYear_x'])]\n",
    "mer_2_titl = mer_2_titl[mer_2_titl['isin']]\n",
    "\n",
    "#Select all columns except 'startYear_x' and 'isin'\n",
    "mer_2_titl.drop(['startYear_x','isin'],axis=1,inplace=True)\n",
    "\n",
    "#Rename startYear_y to simply startYear\n",
    "mer_2_titl.rename(columns = {'startYear_y':'startYear'}, inplace = True)"
   ]
  },
  {
   "cell_type": "markdown",
   "metadata": {},
   "source": [
    "Despite the effort, however, it's possible that one title might be merged with multiple titles from `imdb_df`. Therefore, simply groupinig the table based on `id` and then taking the first entry is going to solve this issue.  "
   ]
  },
  {
   "cell_type": "code",
   "execution_count": 19,
   "metadata": {},
   "outputs": [],
   "source": [
    "#Take the first in grouped rows by id and then reset the index\n",
    "mer_2_titl = mer_2_titl.groupby('id').first().reset_index()"
   ]
  },
  {
   "cell_type": "markdown",
   "metadata": {},
   "source": [
    "Now `mer_2_titl` can be concatenated with `movies_df`. "
   ]
  },
  {
   "cell_type": "code",
   "execution_count": 20,
   "metadata": {},
   "outputs": [],
   "source": [
    "movies_df = pd.concat([movies_df,mer_2_titl])"
   ]
  },
  {
   "cell_type": "markdown",
   "metadata": {},
   "source": [
    "Lastly, we match the titles with unknown release data in `tn_df` with `imdb_df` that do not appear in `movies_df`. "
   ]
  },
  {
   "cell_type": "code",
   "execution_count": 21,
   "metadata": {},
   "outputs": [],
   "source": [
    "#Select titles with unknown 'startYear' that are not movies_df\n",
    "year_unk_df = left_outer_merge(tn_df[tn_df['startYear']=='Unknown'],movies_df,'simple_title')\n",
    "\n",
    "#Merge 'year_unk_df' and 'imdb_df' on title alone\n",
    "unk_merge = concat_with_movies(year_unk_df,imdb_df,\n",
    "                               replace=True,\n",
    "                               merge_cols='simple_title')"
   ]
  },
  {
   "cell_type": "markdown",
   "metadata": {},
   "source": [
    "Similar to earlier, `unk_merge` will have `startYear_x` and `startYear_y`columns."
   ]
  },
  {
   "cell_type": "code",
   "execution_count": 22,
   "metadata": {},
   "outputs": [],
   "source": [
    "#Drop 'startYear_x' and rename 'startYear_y' to 'startYear'\n",
    "unk_merge.drop('startYear_x',axis=1, inplace=True)\n",
    "unk_merge.rename(columns = {'startYear_y':'startYear'}, inplace = True)\n",
    "\n",
    "#Take the first in grouped rows by id and then reset the index as a precaution\n",
    "unk_merge = unk_merge.groupby('id').first().reset_index()"
   ]
  },
  {
   "cell_type": "code",
   "execution_count": 23,
   "metadata": {},
   "outputs": [],
   "source": [
    "#Merge unk_merge with movies_df\n",
    "movies_df = pd.concat([movies_df,unk_merge])"
   ]
  },
  {
   "cell_type": "markdown",
   "metadata": {},
   "source": [
    "As a last effort, we are going to merge the remaining dataset in `tn_df`."
   ]
  },
  {
   "cell_type": "code",
   "execution_count": 24,
   "metadata": {},
   "outputs": [],
   "source": [
    "remaining_df = left_outer_merge(tn_df,movies_df,'movie')\n",
    "name_only = concat_with_movies(remaining_df,imdb_df,\n",
    "                                  replace=True,\n",
    "                                  merge_cols='simple_title')"
   ]
  },
  {
   "cell_type": "markdown",
   "metadata": {},
   "source": [
    "To merge the remaining titles, the nearest values of `startYear_y` to `startYear_x` were chosen. "
   ]
  },
  {
   "cell_type": "code",
   "execution_count": 25,
   "metadata": {},
   "outputs": [],
   "source": [
    "#Identify the unique ids to be iterated\n",
    "unique_ids = name_only['id'].unique()\n",
    "\n",
    "#Cast years to int\n",
    "name_only[['startYear_x','startYear_y']] = name_only[['startYear_x','startYear_y']].astype(int)\n",
    "\n",
    "#Loop through each unique id, collect df with similar id, find the closest year by subtracting startYear_x from startYear_y\n",
    "# and keep the closest value\n",
    "df = name_only.copy()\n",
    "for id_ in unique_ids:\n",
    "    tmp = name_only[name_only['id']==id_]\n",
    "    df_idx = tmp.index.tolist() \n",
    "    diff = [abs(i-j) for i,j in zip(tmp['startYear_x'],tmp['startYear_y'])]\n",
    "    idx = df_idx[diff.index(min(diff))]\n",
    "    df_idx.remove(idx)\n",
    "    df.drop(df_idx,axis=0,inplace=True)    \n",
    "name_only = df\n",
    "\n",
    "#Change the years back to str\n",
    "name_only[['startYear_x','startYear_y']] = name_only[['startYear_x','startYear_y']].astype(str)"
   ]
  },
  {
   "cell_type": "code",
   "execution_count": 26,
   "metadata": {},
   "outputs": [],
   "source": [
    "#Drop 'startYear_x' and rename 'startYear_y' to 'startYear'\n",
    "name_only.drop('startYear_x',axis=1, inplace=True)\n",
    "name_only.rename(columns = {'startYear_y':'startYear'}, inplace = True)\n",
    "\n",
    "#Take the first in grouped rows by id and then reset the index as a precaution\n",
    "name_only = name_only.groupby('id').first().reset_index()\n",
    "\n",
    "#Merge name_only with movies_df\n",
    "movies_df = pd.concat([movies_df,name_only])"
   ]
  },
  {
   "cell_type": "markdown",
   "metadata": {},
   "source": [
    "Again, as a precaution, we have to group `movies_df` by `id`, reset the index and take the first value. "
   ]
  },
  {
   "cell_type": "code",
   "execution_count": 27,
   "metadata": {},
   "outputs": [],
   "source": [
    "movies_df = movies_df.groupby('tconst').first().reset_index()\n",
    "\n",
    "#Remove 'simple_title' column\n",
    "movies_df.drop('simple_title',axis=1,inplace=True)"
   ]
  },
  {
   "cell_type": "code",
   "execution_count": 28,
   "metadata": {},
   "outputs": [
    {
     "name": "stdout",
     "output_type": "stream",
     "text": [
      "201 titles were discarded.\n"
     ]
    }
   ],
   "source": [
    "discarded_df = left_outer_merge(tn_df,movies_df,'movie')\n",
    "print('{} titles were discarded.'.format(len(discarded_df)))"
   ]
  },
  {
   "cell_type": "markdown",
   "metadata": {},
   "source": [
    "201 movies out of 6183 is not bad. We will now proceed to merging the `movies_df` with `title.crew.tsv.gz`,`title.principals.tsv.gz`, `title.ratings.tsv.gz` and `name.basics.tsv.gz`"
   ]
  },
  {
   "cell_type": "markdown",
   "metadata": {},
   "source": [
    "Due to time constraint and constantly maxing out requests, Wikipedia scraper was not implemented. The idea was to search for each movie title using the `wikipedia` library like so:"
   ]
  },
  {
   "cell_type": "code",
   "execution_count": null,
   "metadata": {},
   "outputs": [],
   "source": [
    "#Find the word 'Distributed by' in 'infobox vevent' table\n",
    "\n",
    "def distributed_filler(soup):\n",
    "    ### soup is BeautifulSoup object parsing an html page\n",
    "    distrib = 'Unknown'\n",
    "    info_table = soup.find('table',class_='infobox vevent')        \n",
    "    if info_table!=None:            \n",
    "        col_names = []\n",
    "        for info in info_table.find_all('th'):\n",
    "            col_names.append(info.get_text(strip=True))\n",
    "            if 'Distributed by' in col_names:\n",
    "                col_vals = info_table.find_all('td')\n",
    "                idx = col_names.index('Distributed by')\n",
    "                distrib = col_vals[idx].get_text(strip=True)\n",
    "    return distrib"
   ]
  },
  {
   "cell_type": "code",
   "execution_count": null,
   "metadata": {},
   "outputs": [],
   "source": [
    "#This code scrapes the distributor of movies in movies_df. \n",
    "#Multiple requests can result in time out. \n",
    "\n",
    "import time\n",
    "\n",
    "wiki = 'https://en.wikipedia.org/wiki/'\n",
    "movies_df['distributedBy'] = ''\n",
    "for i,movie in movies_df[52:].iterrows():\n",
    "    results = wikipedia.search(movie['movie']+' film '+movie['startYear'])\n",
    "    try:\n",
    "        page = wikipedia.page(results[0]).html()\n",
    "        soup = BeautifulSoup(page,'html.parser')\n",
    "    except:\n",
    "        url = wiki+results[0]\n",
    "        html_page = requests.get(url,timeout=5)\n",
    "        soup = BeautifulSoup(html_page.content, 'html.parser')\n",
    "    movies_df.loc[i,'distributedBy'] = distributed_filler(soup) "
   ]
  },
  {
   "cell_type": "markdown",
   "metadata": {},
   "source": [
    "Now that `movies_df` is ready, the remaining dataset can be loaded and joined using `tconst` column"
   ]
  },
  {
   "cell_type": "code",
   "execution_count": 29,
   "metadata": {},
   "outputs": [],
   "source": [
    "#Add rating \n",
    "rating_df = pd.read_csv(\"zippedData/title.ratings.tsv.gz\",compression='gzip',delimiter='\\t',low_memory=False)\n",
    "movies_df = pd.merge(movies_df,rating_df,on='tconst')"
   ]
  },
  {
   "cell_type": "code",
   "execution_count": 31,
   "metadata": {},
   "outputs": [],
   "source": [
    "#Add principals for each movie \n",
    "princ_df = pd.read_csv(\"zippedData/title.principals.tsv.gz\",compression='gzip',delimiter='\\t')\n",
    "princ_df = pd.merge(princ_df[['tconst','nconst','category']],movies_df['tconst'],on='tconst')\n",
    "princ_df.drop_duplicates(inplace=True)\n",
    "\n",
    "#Find names\n",
    "names = pd.read_csv(\"zippedData/name.basics.tsv.gz\",compression='gzip',delimiter='\\t')\n",
    "names = pd.merge(names[['nconst','primaryName']],princ_df['nconst'],on='nconst')\n",
    "names.drop_duplicates(inplace=True)\n",
    "\n",
    "#Merge principals and names\n",
    "princ_df = pd.merge(princ_df,names,on='nconst')\n",
    "princ_df.drop('nconst',axis=1,inplace=True)\n",
    "\n",
    "#Pivot table by 'tconst' and 'category'\n",
    "pv_prin_df = princ_df.groupby(['tconst','category'])['primaryName'].apply(list).reset_index()\n",
    "pv_prin_df = pv_prin_df.pivot(index='tconst', columns='category', values='primaryName').reset_index()\n",
    "\n",
    "#Merge pv_prin_df with movies_df\n",
    "movies_df = pd.merge(movies_df,pv_prin_df,on='tconst')"
   ]
  },
  {
   "cell_type": "code",
   "execution_count": 39,
   "metadata": {},
   "outputs": [
    {
     "data": {
      "text/html": [
       "<div>\n",
       "<style scoped>\n",
       "    .dataframe tbody tr th:only-of-type {\n",
       "        vertical-align: middle;\n",
       "    }\n",
       "\n",
       "    .dataframe tbody tr th {\n",
       "        vertical-align: top;\n",
       "    }\n",
       "\n",
       "    .dataframe thead th {\n",
       "        text-align: right;\n",
       "    }\n",
       "</style>\n",
       "<table border=\"1\" class=\"dataframe\">\n",
       "  <thead>\n",
       "    <tr style=\"text-align: right;\">\n",
       "      <th></th>\n",
       "      <th>tconst</th>\n",
       "      <th>id</th>\n",
       "      <th>release_date</th>\n",
       "      <th>movie</th>\n",
       "      <th>production_budget</th>\n",
       "      <th>domestic_gross</th>\n",
       "      <th>worldwide_gross</th>\n",
       "      <th>startYear</th>\n",
       "      <th>primaryTitle</th>\n",
       "      <th>originalTitle</th>\n",
       "      <th>...</th>\n",
       "      <th>archive_footage</th>\n",
       "      <th>archive_sound</th>\n",
       "      <th>cinematographer</th>\n",
       "      <th>composer</th>\n",
       "      <th>director</th>\n",
       "      <th>editor</th>\n",
       "      <th>producer</th>\n",
       "      <th>production_designer</th>\n",
       "      <th>self</th>\n",
       "      <th>writer</th>\n",
       "    </tr>\n",
       "  </thead>\n",
       "  <tbody>\n",
       "    <tr>\n",
       "      <th>5507</th>\n",
       "      <td>tt4154796</td>\n",
       "      <td>1</td>\n",
       "      <td>Apr 23, 2019</td>\n",
       "      <td>Avengers: Endgame</td>\n",
       "      <td>$400,000,000</td>\n",
       "      <td>$858,373,000</td>\n",
       "      <td>$2,797,800,564</td>\n",
       "      <td>2019</td>\n",
       "      <td>Avengers: Endgame</td>\n",
       "      <td>Avengers: Endgame</td>\n",
       "      <td>...</td>\n",
       "      <td>NaN</td>\n",
       "      <td>NaN</td>\n",
       "      <td>NaN</td>\n",
       "      <td>NaN</td>\n",
       "      <td>[Anthony Russo, Joe Russo]</td>\n",
       "      <td>NaN</td>\n",
       "      <td>NaN</td>\n",
       "      <td>NaN</td>\n",
       "      <td>NaN</td>\n",
       "      <td>[Stan Lee, Jack Kirby, Christopher Markus, Ste...</td>\n",
       "    </tr>\n",
       "    <tr>\n",
       "      <th>4003</th>\n",
       "      <td>tt1298650</td>\n",
       "      <td>2</td>\n",
       "      <td>May 20, 2011</td>\n",
       "      <td>Pirates of the Caribbean: On Stranger Tides</td>\n",
       "      <td>$379,000,000</td>\n",
       "      <td>$241,071,802</td>\n",
       "      <td>$1,045,713,802</td>\n",
       "      <td>2011</td>\n",
       "      <td>Pirates of the Caribbean: On Stranger Tides</td>\n",
       "      <td>Pirates of the Caribbean: On Stranger Tides</td>\n",
       "      <td>...</td>\n",
       "      <td>NaN</td>\n",
       "      <td>NaN</td>\n",
       "      <td>NaN</td>\n",
       "      <td>NaN</td>\n",
       "      <td>[Rob Marshall]</td>\n",
       "      <td>NaN</td>\n",
       "      <td>NaN</td>\n",
       "      <td>NaN</td>\n",
       "      <td>NaN</td>\n",
       "      <td>[Ted Elliott, Terry Rossio, Jay Wolpert, Stuar...</td>\n",
       "    </tr>\n",
       "    <tr>\n",
       "      <th>5010</th>\n",
       "      <td>tt2395427</td>\n",
       "      <td>3</td>\n",
       "      <td>Apr 22, 2015</td>\n",
       "      <td>Avengers: Age of Ultron</td>\n",
       "      <td>$365,000,000</td>\n",
       "      <td>$459,005,868</td>\n",
       "      <td>$1,395,316,979</td>\n",
       "      <td>2015</td>\n",
       "      <td>Avengers: Age of Ultron</td>\n",
       "      <td>Avengers: Age of Ultron</td>\n",
       "      <td>...</td>\n",
       "      <td>NaN</td>\n",
       "      <td>NaN</td>\n",
       "      <td>NaN</td>\n",
       "      <td>NaN</td>\n",
       "      <td>[Joss Whedon]</td>\n",
       "      <td>NaN</td>\n",
       "      <td>[Kevin Feige]</td>\n",
       "      <td>NaN</td>\n",
       "      <td>NaN</td>\n",
       "      <td>[Stan Lee, Jack Kirby, Joe Simon, Jim Starlin]</td>\n",
       "    </tr>\n",
       "    <tr>\n",
       "      <th>5058</th>\n",
       "      <td>tt2488496</td>\n",
       "      <td>4</td>\n",
       "      <td>Dec 16, 2015</td>\n",
       "      <td>Star Wars Episode VII: The Force Awakens</td>\n",
       "      <td>$306,000,000</td>\n",
       "      <td>$936,662,225</td>\n",
       "      <td>$2,064,615,817</td>\n",
       "      <td>2015</td>\n",
       "      <td>Star Wars: Episode VII - The Force Awakens</td>\n",
       "      <td>Star Wars: Episode VII - The Force Awakens</td>\n",
       "      <td>...</td>\n",
       "      <td>NaN</td>\n",
       "      <td>NaN</td>\n",
       "      <td>NaN</td>\n",
       "      <td>NaN</td>\n",
       "      <td>[J.J. Abrams]</td>\n",
       "      <td>NaN</td>\n",
       "      <td>[Kathleen Kennedy, Bryan Burk]</td>\n",
       "      <td>NaN</td>\n",
       "      <td>NaN</td>\n",
       "      <td>[George Lucas, Lawrence Kasdan, Michael Arndt]</td>\n",
       "    </tr>\n",
       "    <tr>\n",
       "      <th>5506</th>\n",
       "      <td>tt4154756</td>\n",
       "      <td>5</td>\n",
       "      <td>Apr 25, 2018</td>\n",
       "      <td>Avengers: Infinity War</td>\n",
       "      <td>$300,000,000</td>\n",
       "      <td>$678,815,482</td>\n",
       "      <td>$2,044,540,523</td>\n",
       "      <td>2018</td>\n",
       "      <td>Avengers: Infinity War</td>\n",
       "      <td>Avengers: Infinity War</td>\n",
       "      <td>...</td>\n",
       "      <td>NaN</td>\n",
       "      <td>NaN</td>\n",
       "      <td>NaN</td>\n",
       "      <td>NaN</td>\n",
       "      <td>[Anthony Russo, Joe Russo]</td>\n",
       "      <td>NaN</td>\n",
       "      <td>NaN</td>\n",
       "      <td>NaN</td>\n",
       "      <td>NaN</td>\n",
       "      <td>[Stan Lee, Jack Kirby, Christopher Markus, Ste...</td>\n",
       "    </tr>\n",
       "    <tr>\n",
       "      <th>...</th>\n",
       "      <td>...</td>\n",
       "      <td>...</td>\n",
       "      <td>...</td>\n",
       "      <td>...</td>\n",
       "      <td>...</td>\n",
       "      <td>...</td>\n",
       "      <td>...</td>\n",
       "      <td>...</td>\n",
       "      <td>...</td>\n",
       "      <td>...</td>\n",
       "      <td>...</td>\n",
       "      <td>...</td>\n",
       "      <td>...</td>\n",
       "      <td>...</td>\n",
       "      <td>...</td>\n",
       "      <td>...</td>\n",
       "      <td>...</td>\n",
       "      <td>...</td>\n",
       "      <td>...</td>\n",
       "      <td>...</td>\n",
       "      <td>...</td>\n",
       "    </tr>\n",
       "    <tr>\n",
       "      <th>5933</th>\n",
       "      <td>tt7837402</td>\n",
       "      <td>6179</td>\n",
       "      <td>Unknown</td>\n",
       "      <td>Red 11</td>\n",
       "      <td>$7,000</td>\n",
       "      <td>$0</td>\n",
       "      <td>$0</td>\n",
       "      <td>2019</td>\n",
       "      <td>Red 11</td>\n",
       "      <td>Red 11</td>\n",
       "      <td>...</td>\n",
       "      <td>NaN</td>\n",
       "      <td>NaN</td>\n",
       "      <td>NaN</td>\n",
       "      <td>[Rebel Rodriguez]</td>\n",
       "      <td>[Robert Rodriguez]</td>\n",
       "      <td>NaN</td>\n",
       "      <td>NaN</td>\n",
       "      <td>NaN</td>\n",
       "      <td>NaN</td>\n",
       "      <td>[Racer Rodriguez]</td>\n",
       "    </tr>\n",
       "    <tr>\n",
       "      <th>1395</th>\n",
       "      <td>tt0154506</td>\n",
       "      <td>6180</td>\n",
       "      <td>Apr 2, 1999</td>\n",
       "      <td>Following</td>\n",
       "      <td>$6,000</td>\n",
       "      <td>$48,482</td>\n",
       "      <td>$240,495</td>\n",
       "      <td>1998</td>\n",
       "      <td>Following</td>\n",
       "      <td>Following</td>\n",
       "      <td>...</td>\n",
       "      <td>NaN</td>\n",
       "      <td>NaN</td>\n",
       "      <td>NaN</td>\n",
       "      <td>[David Julyan]</td>\n",
       "      <td>[Christopher Nolan]</td>\n",
       "      <td>[Gareth Heal]</td>\n",
       "      <td>[Emma Thomas]</td>\n",
       "      <td>NaN</td>\n",
       "      <td>NaN</td>\n",
       "      <td>NaN</td>\n",
       "    </tr>\n",
       "    <tr>\n",
       "      <th>2980</th>\n",
       "      <td>tt0461832</td>\n",
       "      <td>6181</td>\n",
       "      <td>Jul 13, 2005</td>\n",
       "      <td>Return to the Land of Wonders</td>\n",
       "      <td>$5,000</td>\n",
       "      <td>$1,338</td>\n",
       "      <td>$1,338</td>\n",
       "      <td>2004</td>\n",
       "      <td>Return to the Land of Wonders</td>\n",
       "      <td>Return to the Land of Wonders</td>\n",
       "      <td>...</td>\n",
       "      <td>NaN</td>\n",
       "      <td>NaN</td>\n",
       "      <td>NaN</td>\n",
       "      <td>NaN</td>\n",
       "      <td>[Maysoon Pachachi]</td>\n",
       "      <td>[Anne Even, Gary Sims]</td>\n",
       "      <td>NaN</td>\n",
       "      <td>NaN</td>\n",
       "      <td>NaN</td>\n",
       "      <td>NaN</td>\n",
       "    </tr>\n",
       "    <tr>\n",
       "      <th>4820</th>\n",
       "      <td>tt2107644</td>\n",
       "      <td>6182</td>\n",
       "      <td>Sep 29, 2015</td>\n",
       "      <td>A Plague So Pleasant</td>\n",
       "      <td>$1,400</td>\n",
       "      <td>$0</td>\n",
       "      <td>$0</td>\n",
       "      <td>2013</td>\n",
       "      <td>A Plague So Pleasant</td>\n",
       "      <td>A Plague So Pleasant</td>\n",
       "      <td>...</td>\n",
       "      <td>NaN</td>\n",
       "      <td>NaN</td>\n",
       "      <td>NaN</td>\n",
       "      <td>NaN</td>\n",
       "      <td>[Benjamin Roberds, Jordan Reyes]</td>\n",
       "      <td>NaN</td>\n",
       "      <td>NaN</td>\n",
       "      <td>NaN</td>\n",
       "      <td>NaN</td>\n",
       "      <td>NaN</td>\n",
       "    </tr>\n",
       "    <tr>\n",
       "      <th>2506</th>\n",
       "      <td>tt0378407</td>\n",
       "      <td>6183</td>\n",
       "      <td>Aug 5, 2005</td>\n",
       "      <td>My Date With Drew</td>\n",
       "      <td>$1,100</td>\n",
       "      <td>$181,041</td>\n",
       "      <td>$181,041</td>\n",
       "      <td>2004</td>\n",
       "      <td>My Date with Drew</td>\n",
       "      <td>My Date with Drew</td>\n",
       "      <td>...</td>\n",
       "      <td>NaN</td>\n",
       "      <td>NaN</td>\n",
       "      <td>NaN</td>\n",
       "      <td>[Steven M. Stern, Stuart Hart]</td>\n",
       "      <td>[Jon Gunn, Brett Winn]</td>\n",
       "      <td>NaN</td>\n",
       "      <td>[Kerry David]</td>\n",
       "      <td>NaN</td>\n",
       "      <td>[Drew Barrymore, John August, Brian Herzlinger...</td>\n",
       "      <td>NaN</td>\n",
       "    </tr>\n",
       "  </tbody>\n",
       "</table>\n",
       "<p>6009 rows × 27 columns</p>\n",
       "</div>"
      ],
      "text/plain": [
       "         tconst    id  release_date  \\\n",
       "5507  tt4154796     1  Apr 23, 2019   \n",
       "4003  tt1298650     2  May 20, 2011   \n",
       "5010  tt2395427     3  Apr 22, 2015   \n",
       "5058  tt2488496     4  Dec 16, 2015   \n",
       "5506  tt4154756     5  Apr 25, 2018   \n",
       "...         ...   ...           ...   \n",
       "5933  tt7837402  6179       Unknown   \n",
       "1395  tt0154506  6180   Apr 2, 1999   \n",
       "2980  tt0461832  6181  Jul 13, 2005   \n",
       "4820  tt2107644  6182  Sep 29, 2015   \n",
       "2506  tt0378407  6183   Aug 5, 2005   \n",
       "\n",
       "                                            movie production_budget  \\\n",
       "5507                            Avengers: Endgame      $400,000,000   \n",
       "4003  Pirates of the Caribbean: On Stranger Tides      $379,000,000   \n",
       "5010                      Avengers: Age of Ultron      $365,000,000   \n",
       "5058     Star Wars Episode VII: The Force Awakens      $306,000,000   \n",
       "5506                       Avengers: Infinity War      $300,000,000   \n",
       "...                                           ...               ...   \n",
       "5933                                       Red 11            $7,000   \n",
       "1395                                    Following            $6,000   \n",
       "2980                Return to the Land of Wonders            $5,000   \n",
       "4820                         A Plague So Pleasant            $1,400   \n",
       "2506                            My Date With Drew            $1,100   \n",
       "\n",
       "     domestic_gross worldwide_gross startYear  \\\n",
       "5507   $858,373,000  $2,797,800,564      2019   \n",
       "4003   $241,071,802  $1,045,713,802      2011   \n",
       "5010   $459,005,868  $1,395,316,979      2015   \n",
       "5058   $936,662,225  $2,064,615,817      2015   \n",
       "5506   $678,815,482  $2,044,540,523      2018   \n",
       "...             ...             ...       ...   \n",
       "5933             $0              $0      2019   \n",
       "1395        $48,482        $240,495      1998   \n",
       "2980         $1,338          $1,338      2004   \n",
       "4820             $0              $0      2013   \n",
       "2506       $181,041        $181,041      2004   \n",
       "\n",
       "                                     primaryTitle  \\\n",
       "5507                            Avengers: Endgame   \n",
       "4003  Pirates of the Caribbean: On Stranger Tides   \n",
       "5010                      Avengers: Age of Ultron   \n",
       "5058   Star Wars: Episode VII - The Force Awakens   \n",
       "5506                       Avengers: Infinity War   \n",
       "...                                           ...   \n",
       "5933                                       Red 11   \n",
       "1395                                    Following   \n",
       "2980                Return to the Land of Wonders   \n",
       "4820                         A Plague So Pleasant   \n",
       "2506                            My Date with Drew   \n",
       "\n",
       "                                    originalTitle  ... archive_footage  \\\n",
       "5507                            Avengers: Endgame  ...             NaN   \n",
       "4003  Pirates of the Caribbean: On Stranger Tides  ...             NaN   \n",
       "5010                      Avengers: Age of Ultron  ...             NaN   \n",
       "5058   Star Wars: Episode VII - The Force Awakens  ...             NaN   \n",
       "5506                       Avengers: Infinity War  ...             NaN   \n",
       "...                                           ...  ...             ...   \n",
       "5933                                       Red 11  ...             NaN   \n",
       "1395                                    Following  ...             NaN   \n",
       "2980                Return to the Land of Wonders  ...             NaN   \n",
       "4820                         A Plague So Pleasant  ...             NaN   \n",
       "2506                            My Date with Drew  ...             NaN   \n",
       "\n",
       "     archive_sound cinematographer                        composer  \\\n",
       "5507           NaN             NaN                             NaN   \n",
       "4003           NaN             NaN                             NaN   \n",
       "5010           NaN             NaN                             NaN   \n",
       "5058           NaN             NaN                             NaN   \n",
       "5506           NaN             NaN                             NaN   \n",
       "...            ...             ...                             ...   \n",
       "5933           NaN             NaN               [Rebel Rodriguez]   \n",
       "1395           NaN             NaN                  [David Julyan]   \n",
       "2980           NaN             NaN                             NaN   \n",
       "4820           NaN             NaN                             NaN   \n",
       "2506           NaN             NaN  [Steven M. Stern, Stuart Hart]   \n",
       "\n",
       "                              director                  editor  \\\n",
       "5507        [Anthony Russo, Joe Russo]                     NaN   \n",
       "4003                    [Rob Marshall]                     NaN   \n",
       "5010                     [Joss Whedon]                     NaN   \n",
       "5058                     [J.J. Abrams]                     NaN   \n",
       "5506        [Anthony Russo, Joe Russo]                     NaN   \n",
       "...                                ...                     ...   \n",
       "5933                [Robert Rodriguez]                     NaN   \n",
       "1395               [Christopher Nolan]           [Gareth Heal]   \n",
       "2980                [Maysoon Pachachi]  [Anne Even, Gary Sims]   \n",
       "4820  [Benjamin Roberds, Jordan Reyes]                     NaN   \n",
       "2506            [Jon Gunn, Brett Winn]                     NaN   \n",
       "\n",
       "                            producer production_designer  \\\n",
       "5507                             NaN                 NaN   \n",
       "4003                             NaN                 NaN   \n",
       "5010                   [Kevin Feige]                 NaN   \n",
       "5058  [Kathleen Kennedy, Bryan Burk]                 NaN   \n",
       "5506                             NaN                 NaN   \n",
       "...                              ...                 ...   \n",
       "5933                             NaN                 NaN   \n",
       "1395                   [Emma Thomas]                 NaN   \n",
       "2980                             NaN                 NaN   \n",
       "4820                             NaN                 NaN   \n",
       "2506                   [Kerry David]                 NaN   \n",
       "\n",
       "                                                   self  \\\n",
       "5507                                                NaN   \n",
       "4003                                                NaN   \n",
       "5010                                                NaN   \n",
       "5058                                                NaN   \n",
       "5506                                                NaN   \n",
       "...                                                 ...   \n",
       "5933                                                NaN   \n",
       "1395                                                NaN   \n",
       "2980                                                NaN   \n",
       "4820                                                NaN   \n",
       "2506  [Drew Barrymore, John August, Brian Herzlinger...   \n",
       "\n",
       "                                                 writer  \n",
       "5507  [Stan Lee, Jack Kirby, Christopher Markus, Ste...  \n",
       "4003  [Ted Elliott, Terry Rossio, Jay Wolpert, Stuar...  \n",
       "5010     [Stan Lee, Jack Kirby, Joe Simon, Jim Starlin]  \n",
       "5058     [George Lucas, Lawrence Kasdan, Michael Arndt]  \n",
       "5506  [Stan Lee, Jack Kirby, Christopher Markus, Ste...  \n",
       "...                                                 ...  \n",
       "5933                                  [Racer Rodriguez]  \n",
       "1395                                                NaN  \n",
       "2980                                                NaN  \n",
       "4820                                                NaN  \n",
       "2506                                                NaN  \n",
       "\n",
       "[6009 rows x 27 columns]"
      ]
     },
     "execution_count": 39,
     "metadata": {},
     "output_type": "execute_result"
    }
   ],
   "source": [
    "movies_df = movies_df.sort_values('id')"
   ]
  }
 ],
 "metadata": {
  "kernelspec": {
   "display_name": "Python (learn-env)",
   "language": "python",
   "name": "learn-env"
  },
  "language_info": {
   "codemirror_mode": {
    "name": "ipython",
    "version": 3
   },
   "file_extension": ".py",
   "mimetype": "text/x-python",
   "name": "python",
   "nbconvert_exporter": "python",
   "pygments_lexer": "ipython3",
   "version": "3.8.5"
  }
 },
 "nbformat": 4,
 "nbformat_minor": 4
}
