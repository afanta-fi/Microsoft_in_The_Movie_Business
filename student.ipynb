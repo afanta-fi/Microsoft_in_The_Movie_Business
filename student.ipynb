{
 "cells": [
  {
   "cell_type": "markdown",
   "metadata": {},
   "source": [
    "## Final Project Submission\n",
    "\n",
    "Please fill out:\n",
    "* Student name: __Abeselom Fanta__\n",
    "* Student pace: self paced / part time / full time: __Self paced__ \n",
    "* Scheduled project review date/time: __October 19, 2021 5:00 pm EST__\n",
    "* Instructor name: __Abhineet Kulkarni__\n",
    "* Blog post URL:__https://medium.com/@afanta/polars-a-new-dataframe-on-the-rise-d88a3f30936__\n"
   ]
  },
  {
   "cell_type": "code",
   "execution_count": null,
   "metadata": {},
   "outputs": [],
   "source": [
    "# Your code here - remember to use markdown cells for comments as well!"
   ]
  }
 ],
 "metadata": {
  "kernelspec": {
   "display_name": "Python 3",
   "language": "python",
   "name": "python3"
  },
  "language_info": {
   "codemirror_mode": {
    "name": "ipython",
    "version": 3
   },
   "file_extension": ".py",
   "mimetype": "text/x-python",
   "name": "python",
   "nbconvert_exporter": "python",
   "pygments_lexer": "ipython3",
   "version": "3.8.5"
  }
 },
 "nbformat": 4,
 "nbformat_minor": 2
}
